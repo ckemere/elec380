{
 "cells": [
  {
   "cell_type": "markdown",
   "id": "b91c50bd",
   "metadata": {},
   "source": [
    "# Homework 1\n",
    "\n",
    "For this homework assignment, we're going to look at neural spikes recorded from the mouse olfactory bulb. These experiments were done with the goal of understanding how our sense of smell works. See these [eLife](https://elifesciences.org/articles/22630) and [Science](https://www.science.org/doi/full/10.1126/science.aat6904) papers for more information on the big picture. The data were downloaded from an [archive on CRCNS.org](https://crcns.org/data-sets/pcx/pcx-1/about-pcx-1).\n",
    "\n",
    "In the data you will look at, electrodes recorded neural activity as mice were exposed to the odors represented by a library of chemicals. An olfactometer is an instrument which allows an evaporated chemical to be puffed by an animal's nose (and then takes care of subsequently cleaning the air by sucking the odor out and replacing it with chemical free air during inter-trial intervals). So individual trials are marked by timestamps when the olfactometer valve was opened, releasing the odor. In addition, what brings smells to the sensory epithelium in the nasal cavities is a combination of passive diffusion and, much more importantly, inhalation. The inhatlation cycle was also measured in these experiments, and the timesteps of inhalation onset are also given. The experiments comprised ~10 repeated trials for each of 16 different odors. Finally, we have spikes from 68 individual neurons. \n",
    "\n",
    "Let's start by loading the data. The neural activity and behavioral timestamps are stored in numpy arrays in `150313_spikes_valvetimes_prex.npz`."
   ]
  },
  {
   "cell_type": "code",
   "execution_count": 1,
   "id": "a4a7870d-563c-4479-a242-22f767d5c017",
   "metadata": {},
   "outputs": [],
   "source": [
    "import numpy as np\n",
    "import matplotlib.pyplot as plt\n"
   ]
  },
  {
   "cell_type": "code",
   "execution_count": 2,
   "id": "27cf9635",
   "metadata": {},
   "outputs": [
    {
     "name": "stderr",
     "output_type": "stream",
     "text": [
      "'wget' is not recognized as an internal or external command,\n",
      "operable program or batch file.\n"
     ]
    }
   ],
   "source": [
    "# If you are running in a Google collab notebook, this should grab the data for you.\n",
    "\n",
    "\n",
    "!wget https://github.com/ckemere/elec380/raw/refs/heads/main/HW2/150313_spikes_valvetimes_prex.npz"
   ]
  },
  {
   "cell_type": "code",
   "execution_count": 3,
   "id": "30271e3a",
   "metadata": {},
   "outputs": [],
   "source": [
    "npzfile = np.load('150313_spikes_valvetimes_prex.npz', allow_pickle=True)\n",
    "\n",
    "# npzfile.files will print out contents!\n",
    "spike_times = npzfile['spike_times'] # 68-neuron dimensional array, each array entry is vector of timestamps for each spike from that neuron\n",
    "# The olfactometer is coded for 16 different odors (actually some are the same chemical at different concentrations)\n",
    "odor_valve_times = npzfile['odor_valve_times'] # 16-odor dimensional array, each entry is a vector of ~10 timestamps of repeated trials when that odor was released\n",
    "inhalation_times = npzfile['prex'] # All detected inhalation timestamps for the whole experiment\n",
    "odor_inhalation_times = npzfile['odor_prex_times'] # 16-odor x ~10 repititons - timestamps of the first inhalation following odor release for a given trial"
   ]
  },
  {
   "cell_type": "markdown",
   "id": "5d0d6cce",
   "metadata": {},
   "source": [
    "The first question you will answer from this data is the following: Is the neural activity of individual neurons across trials for an odor temporally aligned to the time the odor is released or the time of inhalation? \n",
    "\n",
    "To answer this question, you will need to be able to visualize the activity of the neurons across trials. There are two ways to do this. First, we can create a \"raster plot\". A \"raster plot\" plots the spike times of an individual neuron across trials aligned to tiral timestamps. Let us create a function that will plot small vertical lines at a specific y-axis height."
   ]
  },
  {
   "cell_type": "code",
   "execution_count": 4,
   "id": "951f4e0e",
   "metadata": {},
   "outputs": [],
   "source": [
    "def plot_ticks(t, y_base, ax=None, height=0.8, **kwargs):\n",
    "  \"\"\"\n",
    "  plot_ticks plots vertical lines (tick marks) at multiple x-axis locations.\n",
    "\n",
    "  :t vector of x-axis times for a tick mark\n",
    "  :y_base each tick mark starts at this y-axis location\n",
    "  :height each tick mark starts at y_base and is height tall (default 0.8)\n",
    "  :ax use this pyplot figure axes to plot into (if None, use the current axes)\n",
    "  \"\"\"\n",
    "  if not ax: # cover the situation where no axes are specified\n",
    "    ax = plt.gca()\n",
    "  ax.vlines(t, y_base, y_base+height, **kwargs)\n"
   ]
  },
  {
   "cell_type": "code",
   "execution_count": 5,
   "id": "c4ad28df",
   "metadata": {},
   "outputs": [
    {
     "data": {
      "image/png": "[encoded data removed]",
      "text/plain": [
       "<Figure size 400x100 with 1 Axes>"
      ]
     },
     "metadata": {},
     "output_type": "display_data"
    }
   ],
   "source": [
    "# Try out our function\n",
    "fig, ax = plt.subplots(1,1, figsize=(4,1))\n",
    "plot_ticks(np.arange(10), 1)"
   ]
  },
  {
   "cell_type": "markdown",
   "id": "74d01e62",
   "metadata": {},
   "source": [
    "Now that we can plot rasters, we need to extract the snippets of data that correspond to each trial. Let's begin by defining trials by the time the odor is released (`odor_valve_times`). In order to plot rasters, we can loop over the repeated trials. We'll define the spikes associated with a trial as the ones which occur **between 0.5 s before our timestamp and 1.0 s after**. (This is an arbitrarily chosen window size that suffices for this homework assignment!)\n",
    "\n",
    "Though it's somewhat inefficient, let's begin by defining a function that takes the spike times of a neuron for the whole experiment, and the timestamp of a trial, and return only the spikes in our chosen window."
   ]
  },
  {
   "cell_type": "code",
   "execution_count": 6,
   "id": "6c7ea963",
   "metadata": {},
   "outputs": [],
   "source": [
    "def find_nearby_spikes(ts, t0, window=(-0.5, 1)):\n",
    "  return ts[(ts > t0 + window[0]) & (ts <= t0 + window[1])] - t0"
   ]
  },
  {
   "cell_type": "markdown",
   "id": "a7bab2c3",
   "metadata": {},
   "source": [
    "Now let's use our two functions to plot the spike rasters for one of the neurons corresponding to the trials for one of the odors."
   ]
  },
  {
   "cell_type": "code",
   "execution_count": 7,
   "id": "32f55b35",
   "metadata": {},
   "outputs": [
    {
     "data": {
      "text/plain": [
       "Text(0, 0.5, 'Trial')"
      ]
     },
     "execution_count": 7,
     "metadata": {},
     "output_type": "execute_result"
    },
    {
     "data": {
      "image/png": "[encoded data removed]",
      "text/plain": [
       "<Figure size 800x200 with 1 Axes>"
      ]
     },
     "metadata": {},
     "output_type": "display_data"
    }
   ],
   "source": [
    "odor = 12\n",
    "neuron = 24\n",
    "\n",
    "fig, ax = plt.subplots(1, 1, figsize=(8,2))\n",
    "for trial, ovt in enumerate(odor_valve_times[odor]): # \"enumerate\" takes a list and returns (index, item) for each item in the list\n",
    "  relative_spikes = find_nearby_spikes(spike_times[neuron], ovt)\n",
    "  plot_ticks(relative_spikes, trial, ax=ax) # we'll use the trial number as our y-location, so the first trial is at the bottom\n",
    "\n",
    "ax.axvline(0, color='gray')\n",
    "ax.set_xlabel('Time from odor valve opening (s)')\n",
    "ax.set_ylabel('Trial')\n"
   ]
  },
  {
   "cell_type": "markdown",
   "id": "1fec5609",
   "metadata": {},
   "source": [
    "Let's make a peristimulus time histogram of these data. A PSTH shows the average number of events (spikes in this case) in a time bin averaged across time-aligned trials. While we could roll our own histogram function, both the numpy and scipy packages give us helper functions for this task. Let's use numpy's `histogram` (documentation [here](https://numpy.org/doc/stable/reference/generated/numpy.histogram.html)). The way we'll use it, the `np.histogram` function counts the number of items in each bin of time. The naive way of using it would be to run `np.histogram()` on each trial, and then accumulate the counts across trials in a loop. The easier thing to do is to let the function do this work for us. In order to do that, we need to feed it a long vector that contains all of the trials stacked end-to-end. So let's modify our loop to accumulate the data from the trials."
   ]
  },
  {
   "cell_type": "code",
   "execution_count": null,
   "id": "567e8a42",
   "metadata": {},
   "outputs": [
    {
     "data": {
      "text/plain": [
       "Text(0, 0.5, 'Spikes per bin')"
      ]
     },
     "execution_count": 8,
     "metadata": {},
     "output_type": "execute_result"
    },
    {
     "data": {
      "image/png": "[encoded data removed]",
      "text/plain": [
       "<Figure size 800x400 with 2 Axes>"
      ]
     },
     "metadata": {},
     "output_type": "display_data"
    }
   ],
   "source": [
    "odor = 12\n",
    "neuron = 24\n",
    "\n",
    "fig, ax = plt.subplots(2,1, figsize=(8,4), sharex=True) # note that now ax is a vector of size 2\n",
    "\n",
    "all_relative_spikes = [] # we'll use this to accumuluate\n",
    "\n",
    "for trial, ovt in enumerate(odor_valve_times[odor]): # \"enumerate\" takes a list and returns (index, item) for each item in the list\n",
    "  relative_spikes = find_nearby_spikes(spike_times[neuron], ovt)\n",
    "  all_relative_spikes.append(relative_spikes)\n",
    "  plot_ticks(relative_spikes, trial, ax=ax[0]) # we'll use the trial number as our y-location, so the first trial is at the bottom\n",
    "ax[0].axvline(0, color='gray')\n",
    "ax[0].set_ylabel('Trial')\n",
    "\n",
    "all_relative_spikes = np.hstack(all_relative_spikes) # convert a list of numpy arrays by stacking them end to end\n",
    "hist, edges = np.histogram(all_relative_spikes,25) # calculate a histogram of our spiking data\n",
    "ax[1].step(edges[:-1], hist, where='post') # plot it on the second axis, using the left end of the bin as the edges of steps. use where='post' to make values apply until right bin edge.\n",
    "ax[1].axvline(0, color='gray')\n",
    "\n",
    "\n",
    "ax[1].set_xlabel('Time from odor valve opening (s)')\n",
    "ax[1].set_ylabel('Spikes per bin')"
   ]
  },
  {
   "cell_type": "markdown",
   "id": "ee54040e",
   "metadata": {},
   "source": [
    "While there seems to be a small increase in spikes around the time that the valve opens, we can observe two things. First, it's a bit odd that it increases _before_ the valve opens. Maybe the mouse somehow can anticipate the smell being delivered, but this shouldn't reflect odor coding if it is just anticipation. Second, if we look at the spike rasters, we can see a big increase in firing happens about 200-300 ms after the valve opens, but not in a way that is synchronized to the valve. Could this be related to sniffing? Let's add ticks corresponding to sniffs to see."
   ]
  },
  {
   "cell_type": "code",
   "execution_count": 9,
   "id": "3ccc8c11",
   "metadata": {},
   "outputs": [
    {
     "data": {
      "text/plain": [
       "Text(0, 0.5, 'Spikes per bin')"
      ]
     },
     "execution_count": 9,
     "metadata": {},
     "output_type": "execute_result"
    },
    {
     "data": {
      "image/png": "[encoded data removed]",
      "text/plain": [
       "<Figure size 800x400 with 2 Axes>"
      ]
     },
     "metadata": {},
     "output_type": "display_data"
    }
   ],
   "source": [
    "odor = 12\n",
    "neuron = 24\n",
    "\n",
    "fig, ax = plt.subplots(2,1, figsize=(8,4), sharex=True) # note that now ax is a vector of size 2\n",
    "\n",
    "all_relative_spikes = [] # we'll use this to accumuluate\n",
    "\n",
    "for trial, ovt in enumerate(odor_valve_times[odor]): # \"enumerate\" takes a list and returns (index, item) for each item in the list\n",
    "  relative_spikes = find_nearby_spikes(spike_times[neuron], ovt)\n",
    "  all_relative_spikes.append(relative_spikes)\n",
    "  plot_ticks(relative_spikes, trial, ax=ax[0]) # we'll use the trial number as our y-location, so the first trial is at the bottom\n",
    "\n",
    "  relative_breaths = find_nearby_spikes(inhalation_times, ovt) # find inhalation times that happen within our trial window\n",
    "  plot_ticks(relative_breaths, trial, ax=ax[0], colors='r')\n",
    "\n",
    "ax[0].axvline(0, color='gray')\n",
    "ax[0].set_ylabel('Trial')\n",
    "\n",
    "all_relative_spikes = np.hstack(all_relative_spikes) # convert a list of numpy arrays by stacking them end to end\n",
    "hist, edges = np.histogram(all_relative_spikes,25) # calculate a histogram of our spiking data\n",
    "ax[1].step(edges[:-1], hist, where='post') # plot it on the second axis, using the left end of the bin as the edges of steps\n",
    "ax[1].axvline(0, color='gray')\n",
    "\n",
    "\n",
    "ax[1].set_xlabel('Time from odor valve opening (s)')\n",
    "ax[1].set_ylabel('Spikes per bin')"
   ]
  },
  {
   "cell_type": "markdown",
   "id": "4db16ef7",
   "metadata": {},
   "source": [
    "Cool! The big increase of spikes always happens right after a red tick - that means that is strongly aligned to inhalation. Perhaps we should align our analyses to inhalation rather than valve opening.\n",
    "\n",
    "## Problem 1.\n",
    "Modify the example code in the previous cell to generate a spike raster and PSTH aligned to inhalation. Remember that the helper data vector `odor_inhalation_times` gives you the time of that first breath after an odor has been released in the same format as `odor_valve_times`. Looking at the resulting spike rasters and the PSTH, which time marker gives us a more temporally precise measure of neural activity?"
   ]
  },
  {
   "cell_type": "code",
   "execution_count": 15,
   "id": "e995ea42",
   "metadata": {},
   "outputs": [],
   "source": [
    "# Code for problem 1\n"
   ]
  },
  {
   "cell_type": "markdown",
   "id": "fe770896",
   "metadata": {},
   "source": [
    "## Problem 2\n",
    "\n",
    "Vary the number of the PSTH bins. Compare how the PSTH looks for larger and small bin sizes. While the `np.histogram()` function takes the number of bins as an argument, it's much more relevant to think in terms of bin **size** (in seconds, keeping in mind that the full window is 1.5 s). What bin size do you think best balances temporal precision with across-trial-averaging if you want to understand this neuron's pattern of response to the odor? What is the maximum bin size for which you think the PSTH characterizes the neuron's response well? What is the minimum bin size? What about for neuron number 29?\n",
    "\n",
    "_You should respond with both figures and text._"
   ]
  },
  {
   "cell_type": "markdown",
   "id": "3060ae6b",
   "metadata": {},
   "source": [
    "# answers here for Problem 2"
   ]
  },
  {
   "cell_type": "markdown",
   "id": "73f8a772",
   "metadata": {},
   "source": [
    "## Problem 3\n",
    "\n",
    "Compare the pattern of responses for neurons 12, 17, 19, 24, 29, and 55, aligned to (a) the valve opening, (b) the first sniff, and (c) the second sniff. Make a multi-panel plot of PSTHs with 3 columns and 6 rows.\n",
    "\n",
    "Do different neurons have different response latencies (i.e., time until the first odor-related spike)? Order the rows of your plots by your preception of the response response latency from shortest to longest.\n",
    "\n",
    "How does the neural response change from the first to subsequent sniffs?  \n",
    "\n",
    "_You should respond with both figures and text._"
   ]
  },
  {
   "cell_type": "markdown",
   "id": "1677ee7d",
   "metadata": {},
   "source": [
    "# answers here for Problem 3"
   ]
  },
  {
   "cell_type": "markdown",
   "id": "b8568c66",
   "metadata": {},
   "source": [
    "## Problem 4\n",
    "\n",
    "Now, write some code to plot the rasters and the PSTHs for **2** neurons -- number 24 and number 29 -- in the same sets of figures. You can leverage the `height` parameter in the `plot_ticks()` function to have the spikes from the two neurons vertically adjacent to each other on each trial, like this:\n",
    "```\n",
    "plot_ticks(relative_spikes1, trial, height = 0.3, ax=ax[0]) \n",
    "plot_ticks(relative_spikes2, trial+0.4, height = 0.3, ax=ax[0]) # neuron 2's spikes for each trial will be right above those of neuron 1 \n",
    "```\n",
    "\n",
    "Which neuron has a lower latency to responding to the odor? What do you see when you look at the spike raster's associated with the **second** sniff cycle following the odor? Is the relative latency more reliable for the first sniff cycle or subsequent ones? Is this clear from the PSTH?\n",
    "\n",
    "_You should respond with both figures and text._"
   ]
  },
  {
   "cell_type": "markdown",
   "id": "68860b4d",
   "metadata": {},
   "source": [
    "# answers here for Problem 4"
   ]
  },
  {
   "cell_type": "code",
   "execution_count": null,
   "id": "bd11d474",
   "metadata": {},
   "outputs": [],
   "source": []
  }
 ],
 "metadata": {
  "kernelspec": {
   "display_name": "percept-predict-env",
   "language": "python",
   "name": "python3"
  },
  "language_info": {
   "codemirror_mode": {
    "name": "ipython",
    "version": 3
   },
   "file_extension": ".py",
   "mimetype": "text/x-python",
   "name": "python",
   "nbconvert_exporter": "python",
   "pygments_lexer": "ipython3",
   "version": "3.13.5"
  }
 },
 "nbformat": 4,
 "nbformat_minor": 5
}
